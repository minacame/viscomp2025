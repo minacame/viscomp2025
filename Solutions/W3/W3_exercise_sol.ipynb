{
  "cells": [
    {
      "cell_type": "markdown",
      "metadata": {
        "id": "OcAuZOFpI6Oa"
      },
      "source": [
        "# Week 3: Edge Detection\n",
        "\n",
        "This python notebook includes all the exercises from this session. All the needed setup, I/O and user-interaction code is already provided to let you concentrate on this week's topic.<br>\n",
        "Please run all the provided code in order before running yours.<br>\n",
        "\n",
        "This week's assignment:\n",
        "\n",
        "## 1 Thresholded Edge Detection\n",
        "\n",
        "Implement a function that takes as input the derivative kernels and threshold and outputs the edge image of the provided test image (lighthouse.png). Then test its output with different kernels and thresholds to compare the results. As a reference we report some suggested kernels:\n",
        "\n",
        "Elementary derivative kernels:\n",
        "$$ k_x = \\left[ {\\begin{array}{cc}\n",
        "   -1 & 1 \\\\\n",
        "  \\end{array} } \\right]\n",
        "  ~~~\n",
        "   k_y = \\left[ {\\begin{array}{c}\n",
        "   -1\\\\\n",
        "   1\\\\\n",
        "  \\end{array} } \\right]$$\n",
        "\n",
        "Sobel derivative kernels:\n",
        "$$ k_x = \\left[ {\\begin{array}{ccc}\n",
        "   -1 & 0 & 1 \\\\\n",
        "   -2 & 0 & 2 \\\\\n",
        "   -1 & 0 & 1 \\\\\n",
        "  \\end{array} } \\right]\n",
        "  ~~~\n",
        "   k_y = \\left[ {\\begin{array}{ccc}\n",
        "   -1 & -2 & -1 \\\\\n",
        "   0 & 0 & 0 \\\\\n",
        "   1 & 2 & 1 \\\\\n",
        "  \\end{array} } \\right]$$\n",
        "\n",
        "Prewitt derivative kernels:\n",
        "$$ k_x = \\left[ {\\begin{array}{ccc}\n",
        "   -1 & 0 & 1 \\\\\n",
        "   -1 & 0 & 1 \\\\\n",
        "   -1 & 0 & 1 \\\\\n",
        "  \\end{array} } \\right]\n",
        "  ~~~\n",
        "   k_y = \\left[ {\\begin{array}{ccc}\n",
        "   -1 & -1 & -1 \\\\\n",
        "   0 & 0 & 0 \\\\\n",
        "   1 & 1 & 1 \\\\\n",
        "  \\end{array} } \\right]$$\n",
        "  \n",
        "Inside the function, compute the gradient images in $x$ and $y$ direction and consider a pixel $(x,y)$ to be part of an edge if $\\sqrt{g_x(x,y)^2+g_y(x,y)^2}>threshold$ holds.\n",
        "  \n",
        "## 2 Canny Edge Detection\n",
        "\n",
        "Implement edge detection using the Canny method.\n",
        "\n",
        "1. Produce and show kernerls composing derivative and gaussian blur for noise reduction\n",
        "2. Produce the gradient images and show the gradient magnitude image, where each pixel contains the norm of the gradient\n",
        "3. Produce the quantized gradient direction image\n",
        "    1. Produce the gradient direction image, where each pixel contains the angle of the gradient\n",
        "    2. Produce and show the quantized gradient image, where each pixel is an integer corresponding to a gradient direction (horizontal, primary diagonal, vertical, secondary diagonal)\n",
        "4. Perform nonmaximum suppression on the gradient magnitude image for edge thinning, and show it. For each pixel, it is taken only if it is the maximum with the nearby pixels along its corresponding gradient direction.\n",
        "5. Perform hysteresis on the resulting image, and show the final result of Canny Edge Detection.\n",
        "    1. Select two thresholds $t_{high}$ and $t_{low}$\n",
        "    2. A pixel on the nonmaximum suppressed gradient image is taken if its value is higher than $t_{low}$ and there exists any path through pixels with value higher than $t_{low}$ that connects it to a pixel with value higher than $t_{high}$.\n",
        "6. Identify all the hyperparameters introduced in this exercise, play with them and understand their role. To facilitate this, in this tutorial we provide a fill-in template to change your hyperparameters with interactive sliders and visualize the output."
      ]
    },
    {
      "cell_type": "markdown",
      "metadata": {
        "id": "0FqNkvebI6Od"
      },
      "source": [
        "## Useful information for this tutorial:\n",
        "\n",
        "For basics about images as numpy arrays, please refer to the second week's tutorial.\n",
        "\n",
        "With numpy it is also possible to refer to slices of a given array by specifying the kept dimensions in the slice with `:`. For example, if we want to access the red channel of an RGB image `im` with shape `(height, width, 3)`, we can write `im[:, :, 0]`, which refers to the whole image data for the red channel only. We can optionally specify a range to be kept along a direction by writing the extreme indices around the `:` as in `min:max`. For example, accessing a patch within the pixel coordinates `(h0, w0)`, `(h1, w1)` with h0 < h1 and w0 < w1 can be done with `im[h0:h1, w0:w1, :]`.<br>\n",
        "You can also index arrays based on conditions: for example to set to black all pixels with a blue component higher than 200 you can write `im[im[:, :, 2] > 200] = 0`.<br>\n",
        "These references can be used both for reading an image slice and for writing a whole slice at once, without looping over it. <br>\n",
        "A complete reference of numpy basic and advanced indexing rules (not necessary for this tutorial, but very useful for numpy python programming) can be found in https://numpy.org/devdocs/user/basics.indexing.html\n",
        "\n",
        "When doing operations between numpy arrays, all operations are executed element-wise (except for the `@` operator that performs the usual matrix multiplication). This requires the shapes (dimensions) of the involved arrays to match or to be compatible according to broadcasting rules, which are usually intuitive. An example of broadcasting is when adding a pixel value `p=np.array([70, 128, 255])` to an image `im` with shape `(height, width, 3)`: the operation is legal and the pixel value is added independently to each pixel in the image. <br>\n",
        "A complete reference of numpy broadcasting rules (not necessary for this tutorial, but very useful for numpy python programming) can be found in https://docs.scipy.org/doc/numpy/user/basics.broadcasting.html .\n",
        "\n",
        "In the following we list some useful functions.\n",
        "\n",
        "Array initialization:<br>\n",
        "`np.array(a, dtype)`: returns a copy of `a` as a numpy array. Argument `a` does not need to be a numpy array, it can be any array-like object, e.g. a python list. It is possible to specify a `dtype` argument in case we want to change the type of the original array in the returned copy. https://docs.scipy.org/doc/numpy/reference/generated/numpy.array.html<br>\n",
        "`np.empty(shape, dtype)`: returns a new empty array with specified shape `shape` and the specified data type `dtype`. For this tutorial we suggest using as dtype `np.int16` for images and default for the rest. https://docs.scipy.org/doc/numpy/reference/generated/numpy.empty.html<br>\n",
        "`np.ones(shape, dtype)`: returns a new array filled with ones with specified shape `shape` and the specified data type `dtype`. For this tutorial we suggest using as dtype `np.int16` for images and default for the rest. https://docs.scipy.org/doc/numpy/reference/generated/numpy.ones.html<br>\n",
        "`np.zeros(shape, dtype)`: returns a new array filled with zeros with specified shape `shape` and the specified data type `dtype`. For this tutorial we suggest using as dtype `np.int16` for images and default for the rest. https://docs.scipy.org/doc/numpy/reference/generated/numpy.zeros.html<br>\n",
        "`np.eye(N)` : builds the identity matrix of order `N`. https://docs.scipy.org/doc/numpy/reference/generated/numpy.eye.html<br>\n",
        "\n",
        "Array shape management:<br>\n",
        "`np.reshape(a, newshape)`: returns a reshaped view of the input array `a` having shape `newshape`, which should be specified as a tuple of integers. https://docs.scipy.org/doc/numpy/reference/generated/numpy.reshape.html<br>\n",
        "`np.transpose(a)`: returns the transposed of array `a`, whose shape has reversed order with respect to `a`. Alias `a.T`. https://docs.scipy.org/doc/numpy/reference/generated/numpy.transpose.html<br>\n",
        "`np.expand_dims(a, axis)`: returns the same array `a` with a new dimension of size one along the specified `axis`. You can use `np.newaxis` when slice-indexing `a` for the same result. https://docs.scipy.org/doc/numpy/reference/generated/numpy.expand_dims.html<br>\n",
        "\n",
        "Array reductors:<br>\n",
        "`np.linalg.norm(x)`: returns the L2 norm of array `x`. You can also specify a keyword argument `axis` to compute the norm only along a specific dimension (the result will have the same shape as `x`, but without the specified dimension) https://docs.scipy.org/doc/numpy/reference/generated/numpy.linalg.norm.html<br>\n",
        "`np.sum(a)` : returns the sum of all the elements of array `a`. You can specify a keyword argument `axis` to compute the sum only along a specific dimension (the result will have the same shape as `a`, but without the specified dimension) https://docs.scipy.org/doc/numpy/reference/generated/numpy.sum.html<br>\n",
        "`np.mean(a)` : returns the mean value of all the elements of array `a`. You can specify a keyword argument `axis` to compute the mean only along a specific dimension (the result will have the same shape as `a`, but without the specified dimension) https://docs.scipy.org/doc/numpy/reference/generated/numpy.mean.html<br>\n",
        "\n",
        "Matrix operations:<br>\n",
        "`np.linalg.inv(a)` : returns the multiplicative inverse of matrix `a`. https://docs.scipy.org/doc/numpy/reference/generated/numpy.linalg.inv.html<br>\n",
        "`np.matmul(a, b)` : returns the matrix multiplication of `a` multiplied by `b`. Alias `a @ b`. https://docs.scipy.org/doc/numpy/reference/generated/numpy.matmul.html<br>\n",
        "\n",
        "Image operations:<br>\n",
        "`scipy.ndimage.convolve(input, weights)`: returns the convolution of `input` image using the `weights` image as kernel. https://docs.scipy.org/doc/scipy-0.16.1/reference/generated/scipy.ndimage.filters.convolve.html<br>\n",
        "`scipy.ndimage.shift(input, shift)`: returns a copy of `input` image shifted by the translation vector `shift`. Argument `shift` is in pixels, it can be not integer, in which case the result is interpolated. https://docs.scipy.org/doc/scipy/reference/generated/scipy.ndimage.shift.html<br>\n",
        "`scipy.ndimage.label(input, structure)`: Segment the connected components in `input` image, considering all zero-values as separation elements. The `structure` parameter is a central-symmetric array with ones and zeros that defines when two parts are to be considered connected or not (i.e. component_1 is connected with component_2 if we can center the `structure` array on a pixel in component_1 and have at least a one in `structure` to overlap with a pixel in component_2). This function returns both the segmented image, assigning to each pixel an integer identifying its own connected component label, and the number of distinct connected components found. https://docs.scipy.org/doc/scipy/reference/generated/scipy.ndimage.label.html<br>\n",
        "\n",
        "Boolean array operations:<br>\n",
        "`np.logical_and(x1, x2)`: where `x1` and `x2` are arrays of boolean values with matching or broadcastable shape, it returns the element-wise logical and operation between `x1` and `x2`. https://docs.scipy.org/doc/numpy/reference/generated/numpy.logical_and.html<br>\n",
        "`np.isin(element, test_elements)`: for each element in array `element` check whether it is contained into the array-like `test_elements`, and returns an array of boolean values of the same shape as `element`. Warning: with non-sequence `test_elements` like python sets, it produces incorrect results without throwing any exception. https://docs.scipy.org/doc/numpy/reference/generated/numpy.isin.html<br>\n",
        "\n",
        "Miscellaneous:<br>\n",
        "`np.around(a, decimals)`: rounds a floating-point array `a` to the specified number of `decimals` (zero decimals by default). Returns again a floating point array. https://docs.scipy.org/doc/numpy/reference/generated/numpy.around.html<br>\n",
        "`np.max(x1, x2)`: where `x1` and `x2` are arrays with matching or broadcastable shape, it returns the element-wise maximum into an array with the same (or broadcasted) shape as the inputs. https://docs.scipy.org/doc/numpy/reference/generated/numpy.maximum.html<br>\n",
        "`np.pi`: the usual constant for the ratio between circumference and diameter of a circle. https://docs.scipy.org/doc/numpy/reference/constants.html#numpy.pi<br>\n",
        "`np.arctan2(x1, x2)`: element-wise arctan of `x1/x2` choosing the quadrant correctly. Values returned are in the range `[-pi, pi]`. https://docs.scipy.org/doc/numpy/reference/generated/numpy.arctan2.html<br>\n",
        "`np.hypot(x1, x2)`: element-wise `sqrt(x1**2 + x2**2)` for calculating the gradient magnitude. https://numpy.org/doc/stable/reference/generated/numpy.hypot.html<br>"
      ]
    },
    {
      "cell_type": "code",
      "execution_count": null,
      "metadata": {
        "colab": {
          "base_uri": "https://localhost:8080/"
        },
        "id": "tTfilbIhJENs",
        "outputId": "b551c666-fd67-4c3c-de9c-d5a1a53242eb"
      },
      "outputs": [],
      "source": [
        "# quickstart COLAB\n",
        "from pathlib import Path\n",
        "if Path.cwd().name != 'W3':\n",
        "  !git clone --quiet https://github.com/tavisualcomputing/viscomp2025/\n",
        "  %cd /content/viscomp2025/Solutions/W3"
      ]
    },
    {
      "cell_type": "markdown",
      "metadata": {
        "id": "7mZiAs4GI6Of"
      },
      "source": [
        "## EXERCISE 1 - SETUP CODE"
      ]
    },
    {
      "cell_type": "markdown",
      "metadata": {
        "id": "I4q7S1htI6Of"
      },
      "source": [
        "The following cell installs required packages into the virtual machine that will run your code"
      ]
    },
    {
      "cell_type": "code",
      "execution_count": null,
      "metadata": {
        "colab": {
          "base_uri": "https://localhost:8080/"
        },
        "id": "neoim0KGI6Of",
        "outputId": "a48e459a-da37-4b67-b01a-b96b1e21d859"
      },
      "outputs": [],
      "source": [
        "!pip install scipy\n",
        "!pip install scikit-image\n",
        "!pip install matplotlib"
      ]
    },
    {
      "cell_type": "markdown",
      "metadata": {
        "id": "YtOB_zZKI6Og"
      },
      "source": [
        "Import packages to read videos, make interactive widgets and plot images."
      ]
    },
    {
      "cell_type": "code",
      "execution_count": null,
      "metadata": {
        "id": "GtDTPH5fI6Oh"
      },
      "outputs": [],
      "source": [
        "from skimage.io import imread\n",
        "from scipy.ndimage import convolve, shift, label\n",
        "from matplotlib.pyplot import imshow\n",
        "from ipywidgets import interactive\n",
        "from IPython.display import display\n",
        "import matplotlib as mpl\n",
        "import numpy as np\n",
        "\n",
        "mpl.rc('image', cmap='gray')  # tell matplotlib to use gray shades for grayscale images"
      ]
    },
    {
      "cell_type": "markdown",
      "metadata": {
        "id": "IFf5lfB-I6Oh"
      },
      "source": [
        "Reading the test image lighthouse.png in `test_im`."
      ]
    },
    {
      "cell_type": "code",
      "execution_count": null,
      "metadata": {
        "colab": {
          "base_uri": "https://localhost:8080/",
          "height": 542
        },
        "id": "JPvKe7gQI6Oh",
        "outputId": "c99d19f8-eb19-4b50-8da9-00305327a479"
      },
      "outputs": [],
      "source": [
        "test_im = np.array(imread(\"lighthouse.png\", as_gray=True), dtype=float)  # This time the image is floating point 0.0 to 1.0!\n",
        "height, width = test_im.shape\n",
        "print(\"Test image shape: \", test_im.shape)\n",
        "imshow(test_im)"
      ]
    },
    {
      "cell_type": "markdown",
      "metadata": {
        "id": "w7TZGnHCI6Oi"
      },
      "source": [
        "Before starting, here is a function that creates a gaussian filter for you: you might find it handy later."
      ]
    },
    {
      "cell_type": "code",
      "execution_count": null,
      "metadata": {
        "colab": {
          "base_uri": "https://localhost:8080/",
          "height": 113,
          "referenced_widgets": [
            "dd9ab41d81d747a89d05b9ca40d762eb",
            "52a59a6661bb4547b18ff2eb8e27463e",
            "fdb69a86b1424828b2d742e14529d382",
            "4157c3f0c21b4a4da874c8a96d511dda",
            "f1b0ba661a324a15b7570a27f30b4db4",
            "496c013c87bb4e8b81e940765149d165",
            "75533da8dfd544388e73f581e6f84d4d",
            "0e803f21611744a8a0bfce2dc49353b8",
            "aa88368fbbbd4c03b9b11ed51af4092a",
            "d5795f62de01490f8d032052cc5f3336",
            "72d14017f4334895a25de07d31528468",
            "c0aafeb65c204f58aa033561bd5023bd",
            "4954c27f85e9470c86684ec7b030eace"
          ]
        },
        "id": "nMFZFdBGI6Oi",
        "outputId": "59b9e1ee-fa92-4177-a6ea-dfa62b0010b6"
      },
      "outputs": [],
      "source": [
        "def gaussian_filter(size, sigma):\n",
        "    x, y = np.mgrid[-size//2 + 1:size//2 + 1, -size//2 + 1:size//2 + 1]\n",
        "    g = np.exp(-((x**2 + y**2)/(2.0*sigma**2)))\n",
        "    return g/g.sum()\n",
        "\n",
        "slider = interactive(lambda size, sigma: imshow(gaussian_filter(size, sigma)), {'manual': True, 'manual_name': 'Update image'}, size=(1, 49, 2), sigma=(0.1, 20, 0.1))\n",
        "slider.children[0].value = 9\n",
        "slider.children[1].value = 2\n",
        "display(slider)"
      ]
    },
    {
      "cell_type": "markdown",
      "metadata": {
        "id": "8wteweO5I6Oi"
      },
      "source": [
        "## EXERCISE 1 - PUT SOLUTION HERE"
      ]
    },
    {
      "cell_type": "code",
      "execution_count": null,
      "metadata": {
        "id": "Uiw-KB5sI6Oi"
      },
      "outputs": [],
      "source": [
        "def thresholded_edge_detection(k_x, threshold=0.05):\n",
        "    assert(k_x.ndim == 2)\n",
        "    k_y = k_x.T\n",
        "    g_x = convolve(test_im, k_x, mode=\"constant\")\n",
        "    g_y = convolve(test_im, k_y, mode=\"constant\")\n",
        "    grad_mag = np.hypot(g_x, g_y)\n",
        "    edges = np.zeros_like(test_im)\n",
        "    edges[grad_mag > threshold] = 1.\n",
        "    return edges"
      ]
    },
    {
      "cell_type": "code",
      "execution_count": null,
      "metadata": {
        "colab": {
          "base_uri": "https://localhost:8080/",
          "height": 452
        },
        "id": "oGKvo7esI6Oi",
        "outputId": "ea4fc5a9-d3f0-445d-ff8f-ebabd87f99ed"
      },
      "outputs": [],
      "source": [
        "basic_k_x = np.array([[-1, 1]])\n",
        "\n",
        "\n",
        "imshow(thresholded_edge_detection(basic_k_x, threshold=0.17))"
      ]
    },
    {
      "cell_type": "code",
      "execution_count": null,
      "metadata": {
        "colab": {
          "base_uri": "https://localhost:8080/",
          "height": 452
        },
        "id": "NvZzSsU-I6Oi",
        "outputId": "0c00397d-1dcb-4a20-c0e3-60e0bee874dc"
      },
      "outputs": [],
      "source": [
        "prewitt_k_x = np.array([[1, 0, -1],\n",
        "                        [1, 0, -1],\n",
        "                        [1, 0, -1]])\n",
        "\n",
        "imshow(thresholded_edge_detection(prewitt_k_x, threshold=0.6))"
      ]
    },
    {
      "cell_type": "code",
      "execution_count": null,
      "metadata": {
        "colab": {
          "base_uri": "https://localhost:8080/",
          "height": 452
        },
        "id": "1Y8FyO1RI6Oi",
        "outputId": "7932783d-50de-47f7-d064-36909746fb09"
      },
      "outputs": [],
      "source": [
        "sobel_k_x = np.array([[1, 0, -1],\n",
        "                      [2, 0, -2],\n",
        "                      [1, 0, -1]])\n",
        "\n",
        "imshow(thresholded_edge_detection(sobel_k_x, threshold=0.8))"
      ]
    },
    {
      "cell_type": "code",
      "execution_count": null,
      "metadata": {
        "colab": {
          "base_uri": "https://localhost:8080/",
          "height": 452
        },
        "id": "YK0sPG3MI6Oi",
        "outputId": "fd5830ac-f469-48e6-b680-c73bdc14b312"
      },
      "outputs": [],
      "source": [
        "gauss_k_x = convolve(gaussian_filter(5, 1), np.array([[1, -1]]).T)\n",
        "\n",
        "\n",
        "imshow(thresholded_edge_detection(gauss_k_x, threshold=0.045))"
      ]
    },
    {
      "cell_type": "markdown",
      "metadata": {
        "id": "_LJowbDGI6Oi"
      },
      "source": [
        "## EXERCISE 2 - PUT SOLUTION HERE"
      ]
    },
    {
      "cell_type": "code",
      "execution_count": null,
      "metadata": {
        "colab": {
          "base_uri": "https://localhost:8080/",
          "height": 447
        },
        "id": "-xuXd6gpI6Oj",
        "outputId": "b196f2dd-1fd3-4698-c413-2f2c46deaecd"
      },
      "outputs": [],
      "source": [
        "g_filter = gaussian_filter(9, 1.4)\n",
        "canny_k_x = convolve(g_filter, np.array([[1, 0, -1]]).T)\n",
        "canny_k_y = convolve(g_filter, np.array([[1, 0, -1]]))\n",
        "\n",
        "imshow(canny_k_x)"
      ]
    },
    {
      "cell_type": "code",
      "execution_count": null,
      "metadata": {
        "colab": {
          "base_uri": "https://localhost:8080/",
          "height": 447
        },
        "id": "N41ky_hMORVQ",
        "outputId": "e0200f0a-b230-44ec-c61b-580a6ae4fe1c"
      },
      "outputs": [],
      "source": [
        "imshow(canny_k_y)"
      ]
    },
    {
      "cell_type": "code",
      "execution_count": null,
      "metadata": {
        "colab": {
          "base_uri": "https://localhost:8080/",
          "height": 452
        },
        "id": "VFmnnlbVI6Oj",
        "outputId": "8a40ff86-e169-41f9-efb5-fd4e21108bb4"
      },
      "outputs": [],
      "source": [
        "imshow(thresholded_edge_detection(canny_k_x, threshold=0.08))"
      ]
    },
    {
      "cell_type": "code",
      "execution_count": null,
      "metadata": {
        "colab": {
          "base_uri": "https://localhost:8080/",
          "height": 452
        },
        "id": "bTgMpBa_I6Oj",
        "outputId": "63171460-ec79-4e1b-e2ad-21bec4c82fd7"
      },
      "outputs": [],
      "source": [
        "g_x = convolve(test_im, canny_k_x)\n",
        "g_y = convolve(test_im, canny_k_y)\n",
        "\n",
        "grad_mag = np.sqrt(g_x**2 + g_y**2)\n",
        "\n",
        "imshow(grad_mag)"
      ]
    },
    {
      "cell_type": "code",
      "execution_count": null,
      "metadata": {
        "id": "BLrXCabyI6Oj"
      },
      "outputs": [],
      "source": [
        "grad_dir = np.arctan2(g_y, g_x)  # gradient direction in [-pi, pi]\n",
        "grad_dir_0_to_8 = 4*(grad_dir/np.pi + 1)  # gradient direction in [0, 8]"
      ]
    },
    {
      "cell_type": "markdown",
      "metadata": {},
      "source": [
        "![alt text](C1.png \"Circle 1\")"
      ]
    },
    {
      "cell_type": "code",
      "execution_count": null,
      "metadata": {
        "id": "6aFSLfV4I6Oj"
      },
      "outputs": [],
      "source": [
        "quantized_grad_dir = np.array(np.around(grad_dir_0_to_8), dtype=np.uint8)  # map range linearly from [-pi, pi] to [0, 8], then round and make integer index"
      ]
    },
    {
      "cell_type": "markdown",
      "metadata": {},
      "source": [
        "![alt text](C2.png \"Circle 2\")"
      ]
    },
    {
      "cell_type": "code",
      "execution_count": null,
      "metadata": {
        "id": "1i5nUJHEI6Oj"
      },
      "outputs": [],
      "source": [
        "quantized_grad_dir[quantized_grad_dir == 8] = 0  # both 0 and 3 indicate the same direction (towards negative x) with small y, they belong to the same direction category for us"
      ]
    },
    {
      "cell_type": "markdown",
      "metadata": {},
      "source": [
        "![alt text](C3.png \"Circle 3\")"
      ]
    },
    {
      "cell_type": "code",
      "execution_count": null,
      "metadata": {
        "id": "tj1Rx2eHI6Oj"
      },
      "outputs": [],
      "source": [
        "quantized_grad_dir[quantized_grad_dir > 3] -= 4  # we are interested into the direction, not the side: just merge together the same directions on different sides"
      ]
    },
    {
      "cell_type": "markdown",
      "metadata": {},
      "source": [
        "![alt text](C4.png \"Circle 4\")"
      ]
    },
    {
      "cell_type": "code",
      "execution_count": null,
      "metadata": {
        "colab": {
          "base_uri": "https://localhost:8080/",
          "height": 435
        },
        "id": "XeZmrMlMI6Oj",
        "outputId": "4a4a13df-db2e-4c9c-f2ed-289fdb134583"
      },
      "outputs": [],
      "source": [
        "# 0: horizontal gradient           (--)\n",
        "# 1: primary diagonal gradient     (//)\n",
        "# 2: vertical gradient             (||)\n",
        "# 3: secondary diagonal gradient   (\\\\)\n",
        "\n",
        "imshow(quantized_grad_dir)\n",
        "\n",
        "comparative_grad_images = np.empty(shape=(4, height, width))\n",
        "comparative_grad_images[0] = np.maximum(shift(grad_mag, (2, 0)), shift(grad_mag, (-2, 0)))\n",
        "comparative_grad_images[1] = np.maximum(shift(grad_mag, (2, 2)), shift(grad_mag, (-2, -2)))\n",
        "comparative_grad_images[2] = np.maximum(shift(grad_mag, (0, 2)), shift(grad_mag, (0, -2)))\n",
        "comparative_grad_images[3] = np.maximum(shift(grad_mag, (2, -2)), shift(grad_mag, (-2, 2)))"
      ]
    },
    {
      "cell_type": "code",
      "execution_count": null,
      "metadata": {
        "colab": {
          "base_uri": "https://localhost:8080/",
          "height": 452
        },
        "id": "D3PyOxVgI6Oj",
        "outputId": "472d974e-d349-4cc9-b981-a4401720e974"
      },
      "outputs": [],
      "source": [
        "non_maximum_suppressed = np.array(grad_mag)\n",
        "for i in range(4):\n",
        "    non_maximum_suppressed[np.logical_and(quantized_grad_dir == i, grad_mag < comparative_grad_images[i])] = 0\n",
        "\n",
        "imshow(non_maximum_suppressed)"
      ]
    },
    {
      "cell_type": "code",
      "execution_count": null,
      "metadata": {
        "colab": {
          "base_uri": "https://localhost:8080/",
          "height": 452
        },
        "id": "b7v3yEiBI6Oj",
        "outputId": "78a8e701-73c4-4fb7-a3f2-efbb720fba4e"
      },
      "outputs": [],
      "source": [
        "def canny_img(t_high, t_low):\n",
        "    low_img = np.zeros(shape=grad_mag.shape, dtype=np.int16)\n",
        "    canny_img = np.zeros(shape=grad_mag.shape, dtype=np.int16)\n",
        "\n",
        "    low_img[non_maximum_suppressed > t_low] = 1\n",
        "\n",
        "    labelled_low_img, numlabels = label(low_img, structure=np.ones(shape=(3, 3)))\n",
        "\n",
        "    canny_img[np.isin(labelled_low_img, list(set(labelled_low_img[non_maximum_suppressed > t_high])))] = 1\n",
        "\n",
        "    return canny_img\n",
        "\n",
        "imshow(canny_img(0.1, 0.03))"
      ]
    },
    {
      "cell_type": "code",
      "execution_count": null,
      "metadata": {
        "colab": {
          "base_uri": "https://localhost:8080/",
          "height": 209,
          "referenced_widgets": [
            "860fd52e137842728ec74b206b1e2502",
            "c910ccf1fef54afa85adfac2e03b3c09",
            "83def20c2110420bb55ac5e9474939fc",
            "4725a93d656642f88c9711b885bd30ba",
            "65b7b7912e624739afee923472f99f36",
            "881a0f9b33684abd86316f2b6f6fc060",
            "ea9e1d16a0e046298b6178ac2ae89672",
            "25f285c116e14bbc80a2aacc64d373dc",
            "fc012bd7074e4fe99c2929a599f5c895",
            "682a8b756c334cb79bfff31323c5425d",
            "46d431b6011b47fbae1988a202d46104",
            "d7567c7ac81d4fc39f39a03582c3907f",
            "319848f4605d4456999bda228218cf82",
            "52f2d9277d9f43e5b08c4a4ded8b668d",
            "c3ec49e223a54d3e8adcdb13869db631",
            "5e9a50c801d3414a885c3cb03ebdf35e",
            "983d8ceba79e4475a8bb870745a3a54a",
            "486be323c3f14560b29d43b0779467c3",
            "b4cecf8823ff427c824536179736bbb5",
            "dd16770e31814a85875107e7f0cf8b6b",
            "cc5d3966accc4759a08258c904844a08",
            "bf8f6f1cdd964e0d8bea0ee758aff2dc"
          ]
        },
        "id": "PxEwOQ4uI6Oj",
        "outputId": "32fd1f78-2f0e-4204-9b2e-b2740427dd3b"
      },
      "outputs": [],
      "source": [
        "def perform_all_canny(gauss_size, gauss_sigma, shift_offset, t_high, t_low):\n",
        "    g_filter = gaussian_filter(gauss_size, gauss_sigma)\n",
        "    canny_k_x = convolve(g_filter, np.array([[1, 0, -1]]).T)\n",
        "    canny_k_y = convolve(g_filter, np.array([[1, 0, -1]]))\n",
        "\n",
        "    g_x = convolve(test_im, canny_k_x)\n",
        "    g_y = convolve(test_im, canny_k_y)\n",
        "\n",
        "    grad_mag = np.sqrt(g_x**2 + g_y**2)\n",
        "\n",
        "    grad_dir = np.arctan2(g_y, g_x)  # gradient direction in [-pi, pi]\n",
        "\n",
        "    quantized_grad_dir = np.array(np.around(4*(grad_dir/np.pi + 1)), dtype=np.uint8)  # map range linearly from [-pi, pi] to [0, 8], then round and make integer index\n",
        "    quantized_grad_dir[quantized_grad_dir == 8] = 0  # both 0 and 8 indicate the same direction (towards negative x) with small y, they belong to the same direction category for us\n",
        "    quantized_grad_dir[quantized_grad_dir > 3] -= 4  # we are interested into the direction, not the side: just merge together the same directions on different sides\n",
        "\n",
        "    # 0: horizontal gradient           (--)\n",
        "    # 1: primary diagonal gradient     (//)\n",
        "    # 2: vertical gradient             (||)\n",
        "    # 3: secondary diagonal gradient   (\\\\)\n",
        "\n",
        "    imshow(quantized_grad_dir)\n",
        "\n",
        "    comparative_grad_images = np.empty(shape=(4, height, width))\n",
        "    comparative_grad_images[0] = np.maximum(shift(grad_mag, (shift_offset, 0)), shift(grad_mag, (-shift_offset, 0)))\n",
        "    comparative_grad_images[1] = np.maximum(shift(grad_mag, (shift_offset, shift_offset)), shift(grad_mag, (-shift_offset, -shift_offset)))\n",
        "    comparative_grad_images[2] = np.maximum(shift(grad_mag, (0, shift_offset)), shift(grad_mag, (0, -shift_offset)))\n",
        "    comparative_grad_images[3] = np.maximum(shift(grad_mag, (shift_offset, -shift_offset)), shift(grad_mag, (-shift_offset, shift_offset)))\n",
        "\n",
        "    non_maximum_suppressed = np.array(grad_mag)\n",
        "    for i in range(4):\n",
        "        non_maximum_suppressed[np.logical_and(quantized_grad_dir == i, grad_mag < comparative_grad_images[i])] = 0\n",
        "\n",
        "    low_img = np.zeros(shape=grad_mag.shape, dtype=np.int16)\n",
        "    canny_img = np.zeros(shape=grad_mag.shape, dtype=np.int16)\n",
        "\n",
        "    low_img[non_maximum_suppressed > t_low] = 1\n",
        "\n",
        "    labelled_low_img, numlabels = label(low_img, structure=np.ones(shape=(3, 3)))\n",
        "\n",
        "    canny_img[np.isin(labelled_low_img, list(set(labelled_low_img[non_maximum_suppressed > t_high])))] = 1\n",
        "\n",
        "    return canny_img\n",
        "\n",
        "slider = interactive(lambda gsz, gsg, so, th, tl: imshow(perform_all_canny(gsz, gsg, so, th, tl)), {'manual': True, 'manual_name': 'Update image'}, gsz=(1, 49, 2), gsg=(0.1, 20, 0.1), so=(0, 5, 0.2), th=(0, 0.4, 0.01), tl=(0, 0.4, 0.01))\n",
        "slider.children[0].value = 9\n",
        "slider.children[1].value = 1.4\n",
        "slider.children[2].value = 2\n",
        "slider.children[3].value = 0.10\n",
        "slider.children[4].value = 0.03\n",
        "\n",
        "display(slider)"
      ]
    },
    {
      "cell_type": "markdown",
      "metadata": {
        "id": "2qixlX0CI6Ok"
      },
      "source": [
        "## SAMPLE EXAM QUESTION\n",
        "\n",
        "![alt text](Q1.png \"Question 1\")\n",
        "\n",
        "![alt text](Q2.png \"Question 2\")\n",
        "\n",
        "![alt text](F2.png \"Figure 4\")"
      ]
    },
    {
      "cell_type": "markdown",
      "metadata": {},
      "source": [
        "## ANSWERS\n",
        "\n",
        "### Question 1\n",
        "![alt text](A1.png \"Answer 1\")\n",
        "\n",
        "### Question 2\n",
        "![alt text](A2.png \"Answer 2\")"
      ]
    },
    {
      "cell_type": "markdown",
      "metadata": {
        "id": "bGxyD-naI6Ok"
      },
      "source": [
        "## Contact\n",
        "\n",
        "I just include my contact here in case you are solving this from home and you want to ask a question!\n",
        "\n",
        "\n",
        "Name: Xiaozhong Lyu<br>\n",
        "E-mail: xiaozhong.lyu@inf.ethz.ch<br>\n",
        "\n",
        "If your question is very much code-related, I suggest you to make your notebook public and link it to me in your question, so that I can work it out better!"
      ]
    }
  ],
  "metadata": {
    "colab": {
      "provenance": []
    },
    "kernelspec": {
      "display_name": "Python 3",
      "language": "python",
      "name": "python3"
    },
    "language_info": {
      "codemirror_mode": {
        "name": "ipython",
        "version": 3
      },
      "file_extension": ".py",
      "mimetype": "text/x-python",
      "name": "python",
      "nbconvert_exporter": "python",
      "pygments_lexer": "ipython3",
      "version": "3.11.5"
    },
    "widgets": {
      "application/vnd.jupyter.widget-state+json": {
        "0e803f21611744a8a0bfce2dc49353b8": {
          "model_module": "@jupyter-widgets/controls",
          "model_module_version": "1.5.0",
          "model_name": "SliderStyleModel",
          "state": {
            "_model_module": "@jupyter-widgets/controls",
            "_model_module_version": "1.5.0",
            "_model_name": "SliderStyleModel",
            "_view_count": null,
            "_view_module": "@jupyter-widgets/base",
            "_view_module_version": "1.2.0",
            "_view_name": "StyleView",
            "description_width": "",
            "handle_color": null
          }
        },
        "25f285c116e14bbc80a2aacc64d373dc": {
          "model_module": "@jupyter-widgets/output",
          "model_module_version": "1.0.0",
          "model_name": "OutputModel",
          "state": {
            "_dom_classes": [],
            "_model_module": "@jupyter-widgets/output",
            "_model_module_version": "1.0.0",
            "_model_name": "OutputModel",
            "_view_count": null,
            "_view_module": "@jupyter-widgets/output",
            "_view_module_version": "1.0.0",
            "_view_name": "OutputView",
            "layout": "IPY_MODEL_bf8f6f1cdd964e0d8bea0ee758aff2dc",
            "msg_id": "",
            "outputs": []
          }
        },
        "319848f4605d4456999bda228218cf82": {
          "model_module": "@jupyter-widgets/controls",
          "model_module_version": "1.5.0",
          "model_name": "SliderStyleModel",
          "state": {
            "_model_module": "@jupyter-widgets/controls",
            "_model_module_version": "1.5.0",
            "_model_name": "SliderStyleModel",
            "_view_count": null,
            "_view_module": "@jupyter-widgets/base",
            "_view_module_version": "1.2.0",
            "_view_name": "StyleView",
            "description_width": "",
            "handle_color": null
          }
        },
        "4157c3f0c21b4a4da874c8a96d511dda": {
          "model_module": "@jupyter-widgets/controls",
          "model_module_version": "1.5.0",
          "model_name": "ButtonModel",
          "state": {
            "_dom_classes": [],
            "_model_module": "@jupyter-widgets/controls",
            "_model_module_version": "1.5.0",
            "_model_name": "ButtonModel",
            "_view_count": null,
            "_view_module": "@jupyter-widgets/controls",
            "_view_module_version": "1.5.0",
            "_view_name": "ButtonView",
            "button_style": "",
            "description": "Update image",
            "disabled": false,
            "icon": "",
            "layout": "IPY_MODEL_72d14017f4334895a25de07d31528468",
            "style": "IPY_MODEL_c0aafeb65c204f58aa033561bd5023bd",
            "tooltip": ""
          }
        },
        "46d431b6011b47fbae1988a202d46104": {
          "model_module": "@jupyter-widgets/controls",
          "model_module_version": "1.5.0",
          "model_name": "SliderStyleModel",
          "state": {
            "_model_module": "@jupyter-widgets/controls",
            "_model_module_version": "1.5.0",
            "_model_name": "SliderStyleModel",
            "_view_count": null,
            "_view_module": "@jupyter-widgets/base",
            "_view_module_version": "1.2.0",
            "_view_name": "StyleView",
            "description_width": "",
            "handle_color": null
          }
        },
        "4725a93d656642f88c9711b885bd30ba": {
          "model_module": "@jupyter-widgets/controls",
          "model_module_version": "1.5.0",
          "model_name": "FloatSliderModel",
          "state": {
            "_dom_classes": [],
            "_model_module": "@jupyter-widgets/controls",
            "_model_module_version": "1.5.0",
            "_model_name": "FloatSliderModel",
            "_view_count": null,
            "_view_module": "@jupyter-widgets/controls",
            "_view_module_version": "1.5.0",
            "_view_name": "FloatSliderView",
            "continuous_update": true,
            "description": "so",
            "description_tooltip": null,
            "disabled": false,
            "layout": "IPY_MODEL_52f2d9277d9f43e5b08c4a4ded8b668d",
            "max": 5,
            "min": 0,
            "orientation": "horizontal",
            "readout": true,
            "readout_format": ".2f",
            "step": 0.2,
            "style": "IPY_MODEL_c3ec49e223a54d3e8adcdb13869db631",
            "value": 2
          }
        },
        "486be323c3f14560b29d43b0779467c3": {
          "model_module": "@jupyter-widgets/base",
          "model_module_version": "1.2.0",
          "model_name": "LayoutModel",
          "state": {
            "_model_module": "@jupyter-widgets/base",
            "_model_module_version": "1.2.0",
            "_model_name": "LayoutModel",
            "_view_count": null,
            "_view_module": "@jupyter-widgets/base",
            "_view_module_version": "1.2.0",
            "_view_name": "LayoutView",
            "align_content": null,
            "align_items": null,
            "align_self": null,
            "border": null,
            "bottom": null,
            "display": null,
            "flex": null,
            "flex_flow": null,
            "grid_area": null,
            "grid_auto_columns": null,
            "grid_auto_flow": null,
            "grid_auto_rows": null,
            "grid_column": null,
            "grid_gap": null,
            "grid_row": null,
            "grid_template_areas": null,
            "grid_template_columns": null,
            "grid_template_rows": null,
            "height": null,
            "justify_content": null,
            "justify_items": null,
            "left": null,
            "margin": null,
            "max_height": null,
            "max_width": null,
            "min_height": null,
            "min_width": null,
            "object_fit": null,
            "object_position": null,
            "order": null,
            "overflow": null,
            "overflow_x": null,
            "overflow_y": null,
            "padding": null,
            "right": null,
            "top": null,
            "visibility": null,
            "width": null
          }
        },
        "4954c27f85e9470c86684ec7b030eace": {
          "model_module": "@jupyter-widgets/base",
          "model_module_version": "1.2.0",
          "model_name": "LayoutModel",
          "state": {
            "_model_module": "@jupyter-widgets/base",
            "_model_module_version": "1.2.0",
            "_model_name": "LayoutModel",
            "_view_count": null,
            "_view_module": "@jupyter-widgets/base",
            "_view_module_version": "1.2.0",
            "_view_name": "LayoutView",
            "align_content": null,
            "align_items": null,
            "align_self": null,
            "border": null,
            "bottom": null,
            "display": null,
            "flex": null,
            "flex_flow": null,
            "grid_area": null,
            "grid_auto_columns": null,
            "grid_auto_flow": null,
            "grid_auto_rows": null,
            "grid_column": null,
            "grid_gap": null,
            "grid_row": null,
            "grid_template_areas": null,
            "grid_template_columns": null,
            "grid_template_rows": null,
            "height": null,
            "justify_content": null,
            "justify_items": null,
            "left": null,
            "margin": null,
            "max_height": null,
            "max_width": null,
            "min_height": null,
            "min_width": null,
            "object_fit": null,
            "object_position": null,
            "order": null,
            "overflow": null,
            "overflow_x": null,
            "overflow_y": null,
            "padding": null,
            "right": null,
            "top": null,
            "visibility": null,
            "width": null
          }
        },
        "496c013c87bb4e8b81e940765149d165": {
          "model_module": "@jupyter-widgets/base",
          "model_module_version": "1.2.0",
          "model_name": "LayoutModel",
          "state": {
            "_model_module": "@jupyter-widgets/base",
            "_model_module_version": "1.2.0",
            "_model_name": "LayoutModel",
            "_view_count": null,
            "_view_module": "@jupyter-widgets/base",
            "_view_module_version": "1.2.0",
            "_view_name": "LayoutView",
            "align_content": null,
            "align_items": null,
            "align_self": null,
            "border": null,
            "bottom": null,
            "display": null,
            "flex": null,
            "flex_flow": null,
            "grid_area": null,
            "grid_auto_columns": null,
            "grid_auto_flow": null,
            "grid_auto_rows": null,
            "grid_column": null,
            "grid_gap": null,
            "grid_row": null,
            "grid_template_areas": null,
            "grid_template_columns": null,
            "grid_template_rows": null,
            "height": null,
            "justify_content": null,
            "justify_items": null,
            "left": null,
            "margin": null,
            "max_height": null,
            "max_width": null,
            "min_height": null,
            "min_width": null,
            "object_fit": null,
            "object_position": null,
            "order": null,
            "overflow": null,
            "overflow_x": null,
            "overflow_y": null,
            "padding": null,
            "right": null,
            "top": null,
            "visibility": null,
            "width": null
          }
        },
        "52a59a6661bb4547b18ff2eb8e27463e": {
          "model_module": "@jupyter-widgets/controls",
          "model_module_version": "1.5.0",
          "model_name": "IntSliderModel",
          "state": {
            "_dom_classes": [],
            "_model_module": "@jupyter-widgets/controls",
            "_model_module_version": "1.5.0",
            "_model_name": "IntSliderModel",
            "_view_count": null,
            "_view_module": "@jupyter-widgets/controls",
            "_view_module_version": "1.5.0",
            "_view_name": "IntSliderView",
            "continuous_update": true,
            "description": "size",
            "description_tooltip": null,
            "disabled": false,
            "layout": "IPY_MODEL_75533da8dfd544388e73f581e6f84d4d",
            "max": 49,
            "min": 1,
            "orientation": "horizontal",
            "readout": true,
            "readout_format": "d",
            "step": 2,
            "style": "IPY_MODEL_0e803f21611744a8a0bfce2dc49353b8",
            "value": 9
          }
        },
        "52f2d9277d9f43e5b08c4a4ded8b668d": {
          "model_module": "@jupyter-widgets/base",
          "model_module_version": "1.2.0",
          "model_name": "LayoutModel",
          "state": {
            "_model_module": "@jupyter-widgets/base",
            "_model_module_version": "1.2.0",
            "_model_name": "LayoutModel",
            "_view_count": null,
            "_view_module": "@jupyter-widgets/base",
            "_view_module_version": "1.2.0",
            "_view_name": "LayoutView",
            "align_content": null,
            "align_items": null,
            "align_self": null,
            "border": null,
            "bottom": null,
            "display": null,
            "flex": null,
            "flex_flow": null,
            "grid_area": null,
            "grid_auto_columns": null,
            "grid_auto_flow": null,
            "grid_auto_rows": null,
            "grid_column": null,
            "grid_gap": null,
            "grid_row": null,
            "grid_template_areas": null,
            "grid_template_columns": null,
            "grid_template_rows": null,
            "height": null,
            "justify_content": null,
            "justify_items": null,
            "left": null,
            "margin": null,
            "max_height": null,
            "max_width": null,
            "min_height": null,
            "min_width": null,
            "object_fit": null,
            "object_position": null,
            "order": null,
            "overflow": null,
            "overflow_x": null,
            "overflow_y": null,
            "padding": null,
            "right": null,
            "top": null,
            "visibility": null,
            "width": null
          }
        },
        "5e9a50c801d3414a885c3cb03ebdf35e": {
          "model_module": "@jupyter-widgets/base",
          "model_module_version": "1.2.0",
          "model_name": "LayoutModel",
          "state": {
            "_model_module": "@jupyter-widgets/base",
            "_model_module_version": "1.2.0",
            "_model_name": "LayoutModel",
            "_view_count": null,
            "_view_module": "@jupyter-widgets/base",
            "_view_module_version": "1.2.0",
            "_view_name": "LayoutView",
            "align_content": null,
            "align_items": null,
            "align_self": null,
            "border": null,
            "bottom": null,
            "display": null,
            "flex": null,
            "flex_flow": null,
            "grid_area": null,
            "grid_auto_columns": null,
            "grid_auto_flow": null,
            "grid_auto_rows": null,
            "grid_column": null,
            "grid_gap": null,
            "grid_row": null,
            "grid_template_areas": null,
            "grid_template_columns": null,
            "grid_template_rows": null,
            "height": null,
            "justify_content": null,
            "justify_items": null,
            "left": null,
            "margin": null,
            "max_height": null,
            "max_width": null,
            "min_height": null,
            "min_width": null,
            "object_fit": null,
            "object_position": null,
            "order": null,
            "overflow": null,
            "overflow_x": null,
            "overflow_y": null,
            "padding": null,
            "right": null,
            "top": null,
            "visibility": null,
            "width": null
          }
        },
        "65b7b7912e624739afee923472f99f36": {
          "model_module": "@jupyter-widgets/controls",
          "model_module_version": "1.5.0",
          "model_name": "FloatSliderModel",
          "state": {
            "_dom_classes": [],
            "_model_module": "@jupyter-widgets/controls",
            "_model_module_version": "1.5.0",
            "_model_name": "FloatSliderModel",
            "_view_count": null,
            "_view_module": "@jupyter-widgets/controls",
            "_view_module_version": "1.5.0",
            "_view_name": "FloatSliderView",
            "continuous_update": true,
            "description": "th",
            "description_tooltip": null,
            "disabled": false,
            "layout": "IPY_MODEL_5e9a50c801d3414a885c3cb03ebdf35e",
            "max": 0.4,
            "min": 0,
            "orientation": "horizontal",
            "readout": true,
            "readout_format": ".2f",
            "step": 0.01,
            "style": "IPY_MODEL_983d8ceba79e4475a8bb870745a3a54a",
            "value": 0.1
          }
        },
        "682a8b756c334cb79bfff31323c5425d": {
          "model_module": "@jupyter-widgets/base",
          "model_module_version": "1.2.0",
          "model_name": "LayoutModel",
          "state": {
            "_model_module": "@jupyter-widgets/base",
            "_model_module_version": "1.2.0",
            "_model_name": "LayoutModel",
            "_view_count": null,
            "_view_module": "@jupyter-widgets/base",
            "_view_module_version": "1.2.0",
            "_view_name": "LayoutView",
            "align_content": null,
            "align_items": null,
            "align_self": null,
            "border": null,
            "bottom": null,
            "display": null,
            "flex": null,
            "flex_flow": null,
            "grid_area": null,
            "grid_auto_columns": null,
            "grid_auto_flow": null,
            "grid_auto_rows": null,
            "grid_column": null,
            "grid_gap": null,
            "grid_row": null,
            "grid_template_areas": null,
            "grid_template_columns": null,
            "grid_template_rows": null,
            "height": null,
            "justify_content": null,
            "justify_items": null,
            "left": null,
            "margin": null,
            "max_height": null,
            "max_width": null,
            "min_height": null,
            "min_width": null,
            "object_fit": null,
            "object_position": null,
            "order": null,
            "overflow": null,
            "overflow_x": null,
            "overflow_y": null,
            "padding": null,
            "right": null,
            "top": null,
            "visibility": null,
            "width": null
          }
        },
        "72d14017f4334895a25de07d31528468": {
          "model_module": "@jupyter-widgets/base",
          "model_module_version": "1.2.0",
          "model_name": "LayoutModel",
          "state": {
            "_model_module": "@jupyter-widgets/base",
            "_model_module_version": "1.2.0",
            "_model_name": "LayoutModel",
            "_view_count": null,
            "_view_module": "@jupyter-widgets/base",
            "_view_module_version": "1.2.0",
            "_view_name": "LayoutView",
            "align_content": null,
            "align_items": null,
            "align_self": null,
            "border": null,
            "bottom": null,
            "display": null,
            "flex": null,
            "flex_flow": null,
            "grid_area": null,
            "grid_auto_columns": null,
            "grid_auto_flow": null,
            "grid_auto_rows": null,
            "grid_column": null,
            "grid_gap": null,
            "grid_row": null,
            "grid_template_areas": null,
            "grid_template_columns": null,
            "grid_template_rows": null,
            "height": null,
            "justify_content": null,
            "justify_items": null,
            "left": null,
            "margin": null,
            "max_height": null,
            "max_width": null,
            "min_height": null,
            "min_width": null,
            "object_fit": null,
            "object_position": null,
            "order": null,
            "overflow": null,
            "overflow_x": null,
            "overflow_y": null,
            "padding": null,
            "right": null,
            "top": null,
            "visibility": null,
            "width": null
          }
        },
        "75533da8dfd544388e73f581e6f84d4d": {
          "model_module": "@jupyter-widgets/base",
          "model_module_version": "1.2.0",
          "model_name": "LayoutModel",
          "state": {
            "_model_module": "@jupyter-widgets/base",
            "_model_module_version": "1.2.0",
            "_model_name": "LayoutModel",
            "_view_count": null,
            "_view_module": "@jupyter-widgets/base",
            "_view_module_version": "1.2.0",
            "_view_name": "LayoutView",
            "align_content": null,
            "align_items": null,
            "align_self": null,
            "border": null,
            "bottom": null,
            "display": null,
            "flex": null,
            "flex_flow": null,
            "grid_area": null,
            "grid_auto_columns": null,
            "grid_auto_flow": null,
            "grid_auto_rows": null,
            "grid_column": null,
            "grid_gap": null,
            "grid_row": null,
            "grid_template_areas": null,
            "grid_template_columns": null,
            "grid_template_rows": null,
            "height": null,
            "justify_content": null,
            "justify_items": null,
            "left": null,
            "margin": null,
            "max_height": null,
            "max_width": null,
            "min_height": null,
            "min_width": null,
            "object_fit": null,
            "object_position": null,
            "order": null,
            "overflow": null,
            "overflow_x": null,
            "overflow_y": null,
            "padding": null,
            "right": null,
            "top": null,
            "visibility": null,
            "width": null
          }
        },
        "83def20c2110420bb55ac5e9474939fc": {
          "model_module": "@jupyter-widgets/controls",
          "model_module_version": "1.5.0",
          "model_name": "FloatSliderModel",
          "state": {
            "_dom_classes": [],
            "_model_module": "@jupyter-widgets/controls",
            "_model_module_version": "1.5.0",
            "_model_name": "FloatSliderModel",
            "_view_count": null,
            "_view_module": "@jupyter-widgets/controls",
            "_view_module_version": "1.5.0",
            "_view_name": "FloatSliderView",
            "continuous_update": true,
            "description": "gsg",
            "description_tooltip": null,
            "disabled": false,
            "layout": "IPY_MODEL_d7567c7ac81d4fc39f39a03582c3907f",
            "max": 20,
            "min": 0.1,
            "orientation": "horizontal",
            "readout": true,
            "readout_format": ".2f",
            "step": 0.1,
            "style": "IPY_MODEL_319848f4605d4456999bda228218cf82",
            "value": 1.4
          }
        },
        "860fd52e137842728ec74b206b1e2502": {
          "model_module": "@jupyter-widgets/controls",
          "model_module_version": "1.5.0",
          "model_name": "VBoxModel",
          "state": {
            "_dom_classes": [
              "widget-interact"
            ],
            "_model_module": "@jupyter-widgets/controls",
            "_model_module_version": "1.5.0",
            "_model_name": "VBoxModel",
            "_view_count": null,
            "_view_module": "@jupyter-widgets/controls",
            "_view_module_version": "1.5.0",
            "_view_name": "VBoxView",
            "box_style": "",
            "children": [
              "IPY_MODEL_c910ccf1fef54afa85adfac2e03b3c09",
              "IPY_MODEL_83def20c2110420bb55ac5e9474939fc",
              "IPY_MODEL_4725a93d656642f88c9711b885bd30ba",
              "IPY_MODEL_65b7b7912e624739afee923472f99f36",
              "IPY_MODEL_881a0f9b33684abd86316f2b6f6fc060",
              "IPY_MODEL_ea9e1d16a0e046298b6178ac2ae89672",
              "IPY_MODEL_25f285c116e14bbc80a2aacc64d373dc"
            ],
            "layout": "IPY_MODEL_fc012bd7074e4fe99c2929a599f5c895"
          }
        },
        "881a0f9b33684abd86316f2b6f6fc060": {
          "model_module": "@jupyter-widgets/controls",
          "model_module_version": "1.5.0",
          "model_name": "FloatSliderModel",
          "state": {
            "_dom_classes": [],
            "_model_module": "@jupyter-widgets/controls",
            "_model_module_version": "1.5.0",
            "_model_name": "FloatSliderModel",
            "_view_count": null,
            "_view_module": "@jupyter-widgets/controls",
            "_view_module_version": "1.5.0",
            "_view_name": "FloatSliderView",
            "continuous_update": true,
            "description": "tl",
            "description_tooltip": null,
            "disabled": false,
            "layout": "IPY_MODEL_486be323c3f14560b29d43b0779467c3",
            "max": 0.4,
            "min": 0,
            "orientation": "horizontal",
            "readout": true,
            "readout_format": ".2f",
            "step": 0.01,
            "style": "IPY_MODEL_b4cecf8823ff427c824536179736bbb5",
            "value": 0.03
          }
        },
        "983d8ceba79e4475a8bb870745a3a54a": {
          "model_module": "@jupyter-widgets/controls",
          "model_module_version": "1.5.0",
          "model_name": "SliderStyleModel",
          "state": {
            "_model_module": "@jupyter-widgets/controls",
            "_model_module_version": "1.5.0",
            "_model_name": "SliderStyleModel",
            "_view_count": null,
            "_view_module": "@jupyter-widgets/base",
            "_view_module_version": "1.2.0",
            "_view_name": "StyleView",
            "description_width": "",
            "handle_color": null
          }
        },
        "aa88368fbbbd4c03b9b11ed51af4092a": {
          "model_module": "@jupyter-widgets/base",
          "model_module_version": "1.2.0",
          "model_name": "LayoutModel",
          "state": {
            "_model_module": "@jupyter-widgets/base",
            "_model_module_version": "1.2.0",
            "_model_name": "LayoutModel",
            "_view_count": null,
            "_view_module": "@jupyter-widgets/base",
            "_view_module_version": "1.2.0",
            "_view_name": "LayoutView",
            "align_content": null,
            "align_items": null,
            "align_self": null,
            "border": null,
            "bottom": null,
            "display": null,
            "flex": null,
            "flex_flow": null,
            "grid_area": null,
            "grid_auto_columns": null,
            "grid_auto_flow": null,
            "grid_auto_rows": null,
            "grid_column": null,
            "grid_gap": null,
            "grid_row": null,
            "grid_template_areas": null,
            "grid_template_columns": null,
            "grid_template_rows": null,
            "height": null,
            "justify_content": null,
            "justify_items": null,
            "left": null,
            "margin": null,
            "max_height": null,
            "max_width": null,
            "min_height": null,
            "min_width": null,
            "object_fit": null,
            "object_position": null,
            "order": null,
            "overflow": null,
            "overflow_x": null,
            "overflow_y": null,
            "padding": null,
            "right": null,
            "top": null,
            "visibility": null,
            "width": null
          }
        },
        "b4cecf8823ff427c824536179736bbb5": {
          "model_module": "@jupyter-widgets/controls",
          "model_module_version": "1.5.0",
          "model_name": "SliderStyleModel",
          "state": {
            "_model_module": "@jupyter-widgets/controls",
            "_model_module_version": "1.5.0",
            "_model_name": "SliderStyleModel",
            "_view_count": null,
            "_view_module": "@jupyter-widgets/base",
            "_view_module_version": "1.2.0",
            "_view_name": "StyleView",
            "description_width": "",
            "handle_color": null
          }
        },
        "bf8f6f1cdd964e0d8bea0ee758aff2dc": {
          "model_module": "@jupyter-widgets/base",
          "model_module_version": "1.2.0",
          "model_name": "LayoutModel",
          "state": {
            "_model_module": "@jupyter-widgets/base",
            "_model_module_version": "1.2.0",
            "_model_name": "LayoutModel",
            "_view_count": null,
            "_view_module": "@jupyter-widgets/base",
            "_view_module_version": "1.2.0",
            "_view_name": "LayoutView",
            "align_content": null,
            "align_items": null,
            "align_self": null,
            "border": null,
            "bottom": null,
            "display": null,
            "flex": null,
            "flex_flow": null,
            "grid_area": null,
            "grid_auto_columns": null,
            "grid_auto_flow": null,
            "grid_auto_rows": null,
            "grid_column": null,
            "grid_gap": null,
            "grid_row": null,
            "grid_template_areas": null,
            "grid_template_columns": null,
            "grid_template_rows": null,
            "height": null,
            "justify_content": null,
            "justify_items": null,
            "left": null,
            "margin": null,
            "max_height": null,
            "max_width": null,
            "min_height": null,
            "min_width": null,
            "object_fit": null,
            "object_position": null,
            "order": null,
            "overflow": null,
            "overflow_x": null,
            "overflow_y": null,
            "padding": null,
            "right": null,
            "top": null,
            "visibility": null,
            "width": null
          }
        },
        "c0aafeb65c204f58aa033561bd5023bd": {
          "model_module": "@jupyter-widgets/controls",
          "model_module_version": "1.5.0",
          "model_name": "ButtonStyleModel",
          "state": {
            "_model_module": "@jupyter-widgets/controls",
            "_model_module_version": "1.5.0",
            "_model_name": "ButtonStyleModel",
            "_view_count": null,
            "_view_module": "@jupyter-widgets/base",
            "_view_module_version": "1.2.0",
            "_view_name": "StyleView",
            "button_color": null,
            "font_weight": ""
          }
        },
        "c3ec49e223a54d3e8adcdb13869db631": {
          "model_module": "@jupyter-widgets/controls",
          "model_module_version": "1.5.0",
          "model_name": "SliderStyleModel",
          "state": {
            "_model_module": "@jupyter-widgets/controls",
            "_model_module_version": "1.5.0",
            "_model_name": "SliderStyleModel",
            "_view_count": null,
            "_view_module": "@jupyter-widgets/base",
            "_view_module_version": "1.2.0",
            "_view_name": "StyleView",
            "description_width": "",
            "handle_color": null
          }
        },
        "c910ccf1fef54afa85adfac2e03b3c09": {
          "model_module": "@jupyter-widgets/controls",
          "model_module_version": "1.5.0",
          "model_name": "IntSliderModel",
          "state": {
            "_dom_classes": [],
            "_model_module": "@jupyter-widgets/controls",
            "_model_module_version": "1.5.0",
            "_model_name": "IntSliderModel",
            "_view_count": null,
            "_view_module": "@jupyter-widgets/controls",
            "_view_module_version": "1.5.0",
            "_view_name": "IntSliderView",
            "continuous_update": true,
            "description": "gsz",
            "description_tooltip": null,
            "disabled": false,
            "layout": "IPY_MODEL_682a8b756c334cb79bfff31323c5425d",
            "max": 49,
            "min": 1,
            "orientation": "horizontal",
            "readout": true,
            "readout_format": "d",
            "step": 2,
            "style": "IPY_MODEL_46d431b6011b47fbae1988a202d46104",
            "value": 9
          }
        },
        "cc5d3966accc4759a08258c904844a08": {
          "model_module": "@jupyter-widgets/controls",
          "model_module_version": "1.5.0",
          "model_name": "ButtonStyleModel",
          "state": {
            "_model_module": "@jupyter-widgets/controls",
            "_model_module_version": "1.5.0",
            "_model_name": "ButtonStyleModel",
            "_view_count": null,
            "_view_module": "@jupyter-widgets/base",
            "_view_module_version": "1.2.0",
            "_view_name": "StyleView",
            "button_color": null,
            "font_weight": ""
          }
        },
        "d5795f62de01490f8d032052cc5f3336": {
          "model_module": "@jupyter-widgets/controls",
          "model_module_version": "1.5.0",
          "model_name": "SliderStyleModel",
          "state": {
            "_model_module": "@jupyter-widgets/controls",
            "_model_module_version": "1.5.0",
            "_model_name": "SliderStyleModel",
            "_view_count": null,
            "_view_module": "@jupyter-widgets/base",
            "_view_module_version": "1.2.0",
            "_view_name": "StyleView",
            "description_width": "",
            "handle_color": null
          }
        },
        "d7567c7ac81d4fc39f39a03582c3907f": {
          "model_module": "@jupyter-widgets/base",
          "model_module_version": "1.2.0",
          "model_name": "LayoutModel",
          "state": {
            "_model_module": "@jupyter-widgets/base",
            "_model_module_version": "1.2.0",
            "_model_name": "LayoutModel",
            "_view_count": null,
            "_view_module": "@jupyter-widgets/base",
            "_view_module_version": "1.2.0",
            "_view_name": "LayoutView",
            "align_content": null,
            "align_items": null,
            "align_self": null,
            "border": null,
            "bottom": null,
            "display": null,
            "flex": null,
            "flex_flow": null,
            "grid_area": null,
            "grid_auto_columns": null,
            "grid_auto_flow": null,
            "grid_auto_rows": null,
            "grid_column": null,
            "grid_gap": null,
            "grid_row": null,
            "grid_template_areas": null,
            "grid_template_columns": null,
            "grid_template_rows": null,
            "height": null,
            "justify_content": null,
            "justify_items": null,
            "left": null,
            "margin": null,
            "max_height": null,
            "max_width": null,
            "min_height": null,
            "min_width": null,
            "object_fit": null,
            "object_position": null,
            "order": null,
            "overflow": null,
            "overflow_x": null,
            "overflow_y": null,
            "padding": null,
            "right": null,
            "top": null,
            "visibility": null,
            "width": null
          }
        },
        "dd16770e31814a85875107e7f0cf8b6b": {
          "model_module": "@jupyter-widgets/base",
          "model_module_version": "1.2.0",
          "model_name": "LayoutModel",
          "state": {
            "_model_module": "@jupyter-widgets/base",
            "_model_module_version": "1.2.0",
            "_model_name": "LayoutModel",
            "_view_count": null,
            "_view_module": "@jupyter-widgets/base",
            "_view_module_version": "1.2.0",
            "_view_name": "LayoutView",
            "align_content": null,
            "align_items": null,
            "align_self": null,
            "border": null,
            "bottom": null,
            "display": null,
            "flex": null,
            "flex_flow": null,
            "grid_area": null,
            "grid_auto_columns": null,
            "grid_auto_flow": null,
            "grid_auto_rows": null,
            "grid_column": null,
            "grid_gap": null,
            "grid_row": null,
            "grid_template_areas": null,
            "grid_template_columns": null,
            "grid_template_rows": null,
            "height": null,
            "justify_content": null,
            "justify_items": null,
            "left": null,
            "margin": null,
            "max_height": null,
            "max_width": null,
            "min_height": null,
            "min_width": null,
            "object_fit": null,
            "object_position": null,
            "order": null,
            "overflow": null,
            "overflow_x": null,
            "overflow_y": null,
            "padding": null,
            "right": null,
            "top": null,
            "visibility": null,
            "width": null
          }
        },
        "dd9ab41d81d747a89d05b9ca40d762eb": {
          "model_module": "@jupyter-widgets/controls",
          "model_module_version": "1.5.0",
          "model_name": "VBoxModel",
          "state": {
            "_dom_classes": [
              "widget-interact"
            ],
            "_model_module": "@jupyter-widgets/controls",
            "_model_module_version": "1.5.0",
            "_model_name": "VBoxModel",
            "_view_count": null,
            "_view_module": "@jupyter-widgets/controls",
            "_view_module_version": "1.5.0",
            "_view_name": "VBoxView",
            "box_style": "",
            "children": [
              "IPY_MODEL_52a59a6661bb4547b18ff2eb8e27463e",
              "IPY_MODEL_fdb69a86b1424828b2d742e14529d382",
              "IPY_MODEL_4157c3f0c21b4a4da874c8a96d511dda",
              "IPY_MODEL_f1b0ba661a324a15b7570a27f30b4db4"
            ],
            "layout": "IPY_MODEL_496c013c87bb4e8b81e940765149d165"
          }
        },
        "ea9e1d16a0e046298b6178ac2ae89672": {
          "model_module": "@jupyter-widgets/controls",
          "model_module_version": "1.5.0",
          "model_name": "ButtonModel",
          "state": {
            "_dom_classes": [],
            "_model_module": "@jupyter-widgets/controls",
            "_model_module_version": "1.5.0",
            "_model_name": "ButtonModel",
            "_view_count": null,
            "_view_module": "@jupyter-widgets/controls",
            "_view_module_version": "1.5.0",
            "_view_name": "ButtonView",
            "button_style": "",
            "description": "Update image",
            "disabled": false,
            "icon": "",
            "layout": "IPY_MODEL_dd16770e31814a85875107e7f0cf8b6b",
            "style": "IPY_MODEL_cc5d3966accc4759a08258c904844a08",
            "tooltip": ""
          }
        },
        "f1b0ba661a324a15b7570a27f30b4db4": {
          "model_module": "@jupyter-widgets/output",
          "model_module_version": "1.0.0",
          "model_name": "OutputModel",
          "state": {
            "_dom_classes": [],
            "_model_module": "@jupyter-widgets/output",
            "_model_module_version": "1.0.0",
            "_model_name": "OutputModel",
            "_view_count": null,
            "_view_module": "@jupyter-widgets/output",
            "_view_module_version": "1.0.0",
            "_view_name": "OutputView",
            "layout": "IPY_MODEL_4954c27f85e9470c86684ec7b030eace",
            "msg_id": "",
            "outputs": []
          }
        },
        "fc012bd7074e4fe99c2929a599f5c895": {
          "model_module": "@jupyter-widgets/base",
          "model_module_version": "1.2.0",
          "model_name": "LayoutModel",
          "state": {
            "_model_module": "@jupyter-widgets/base",
            "_model_module_version": "1.2.0",
            "_model_name": "LayoutModel",
            "_view_count": null,
            "_view_module": "@jupyter-widgets/base",
            "_view_module_version": "1.2.0",
            "_view_name": "LayoutView",
            "align_content": null,
            "align_items": null,
            "align_self": null,
            "border": null,
            "bottom": null,
            "display": null,
            "flex": null,
            "flex_flow": null,
            "grid_area": null,
            "grid_auto_columns": null,
            "grid_auto_flow": null,
            "grid_auto_rows": null,
            "grid_column": null,
            "grid_gap": null,
            "grid_row": null,
            "grid_template_areas": null,
            "grid_template_columns": null,
            "grid_template_rows": null,
            "height": null,
            "justify_content": null,
            "justify_items": null,
            "left": null,
            "margin": null,
            "max_height": null,
            "max_width": null,
            "min_height": null,
            "min_width": null,
            "object_fit": null,
            "object_position": null,
            "order": null,
            "overflow": null,
            "overflow_x": null,
            "overflow_y": null,
            "padding": null,
            "right": null,
            "top": null,
            "visibility": null,
            "width": null
          }
        },
        "fdb69a86b1424828b2d742e14529d382": {
          "model_module": "@jupyter-widgets/controls",
          "model_module_version": "1.5.0",
          "model_name": "FloatSliderModel",
          "state": {
            "_dom_classes": [],
            "_model_module": "@jupyter-widgets/controls",
            "_model_module_version": "1.5.0",
            "_model_name": "FloatSliderModel",
            "_view_count": null,
            "_view_module": "@jupyter-widgets/controls",
            "_view_module_version": "1.5.0",
            "_view_name": "FloatSliderView",
            "continuous_update": true,
            "description": "sigma",
            "description_tooltip": null,
            "disabled": false,
            "layout": "IPY_MODEL_aa88368fbbbd4c03b9b11ed51af4092a",
            "max": 20,
            "min": 0.1,
            "orientation": "horizontal",
            "readout": true,
            "readout_format": ".2f",
            "step": 0.1,
            "style": "IPY_MODEL_d5795f62de01490f8d032052cc5f3336",
            "value": 2
          }
        }
      }
    }
  },
  "nbformat": 4,
  "nbformat_minor": 0
}
